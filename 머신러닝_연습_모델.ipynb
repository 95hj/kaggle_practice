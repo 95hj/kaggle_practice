{
  "nbformat": 4,
  "nbformat_minor": 0,
  "metadata": {
    "colab": {
      "provenance": [],
      "authorship_tag": "ABX9TyNaA8X2s411p4//pf5YtvvK",
      "include_colab_link": true
    },
    "kernelspec": {
      "name": "python3",
      "display_name": "Python 3"
    },
    "language_info": {
      "name": "python"
    }
  },
  "cells": [
    {
      "cell_type": "markdown",
      "metadata": {
        "id": "view-in-github",
        "colab_type": "text"
      },
      "source": [
        "<a href=\"https://colab.research.google.com/github/95hj/kaggle_practice/blob/main/%EB%A8%B8%EC%8B%A0%EB%9F%AC%EB%8B%9D_%EC%97%B0%EC%8A%B5_%EB%AA%A8%EB%8D%B8.ipynb\" target=\"_parent\"><img src=\"https://colab.research.google.com/assets/colab-badge.svg\" alt=\"Open In Colab\"/></a>"
      ]
    },
    {
      "cell_type": "markdown",
      "source": [
        "### 선형 회귀 모델"
      ],
      "metadata": {
        "id": "Qpm0M9gp8jm4"
      }
    },
    {
      "cell_type": "code",
      "source": [
        "import numpy as np\n",
        "import matplotlib.pyplot as plt\n",
        "\n",
        "np.random.seed(0)\n",
        "\n",
        "w0 = 5\n",
        "w1= 2\n",
        "noise = np.random.randn(100,1)\n",
        "\n",
        "x= 4*np.random.randn(100,1)\n",
        "y=w1*x+w0+noise\n",
        "\n",
        "plt.scatter(x,y)"
      ],
      "metadata": {
        "colab": {
          "base_uri": "https://localhost:8080/",
          "height": 286
        },
        "id": "PLvTrK5982y3",
        "outputId": "862297ac-e1ab-4e51-90fd-ae773b0d2354"
      },
      "execution_count": null,
      "outputs": [
        {
          "output_type": "execute_result",
          "data": {
            "text/plain": [
              "<matplotlib.collections.PathCollection at 0x7f5845826fd0>"
            ]
          },
          "metadata": {},
          "execution_count": 1
        },
        {
          "output_type": "display_data",
          "data": {
            "text/plain": [
              "<Figure size 432x288 with 1 Axes>"
            ],
            "image/png": "[encoded data removed]"
          },
          "metadata": {
            "needs_background": "light"
          }
        }
      ]
    },
    {
      "cell_type": "code",
      "source": [
        "from sklearn.linear_model import LinearRegression\n",
        "\n",
        "linear_reg_model = LinearRegression()\n",
        "linear_reg_model.fit(x,y)\n",
        "\n",
        "print('y절편(w0):', linear_reg_model.intercept_)\n",
        "print('회귀계수(w1):', linear_reg_model.coef_)"
      ],
      "metadata": {
        "colab": {
          "base_uri": "https://localhost:8080/"
        },
        "id": "RDNaReOb9ppg",
        "outputId": "b15a0827-76d7-4723-adff-3443916b9097"
      },
      "execution_count": null,
      "outputs": [
        {
          "output_type": "stream",
          "name": "stdout",
          "text": [
            "y절편(w0): [5.05088198]\n",
            "회귀계수(w1): [[2.02720921]]\n"
          ]
        }
      ]
    },
    {
      "cell_type": "code",
      "source": [
        "y_pred = linear_reg_model.predict(x)\n",
        "\n",
        "plt.scatter(x,y)\n",
        "plt.plot(x, y_pred)"
      ],
      "metadata": {
        "colab": {
          "base_uri": "https://localhost:8080/",
          "height": 284
        },
        "id": "ou0Tiec3-T_f",
        "outputId": "4cf226d2-b45d-432c-acd6-6b406d5f01ce"
      },
      "execution_count": null,
      "outputs": [
        {
          "output_type": "execute_result",
          "data": {
            "text/plain": [
              "[<matplotlib.lines.Line2D at 0x7f5837eda590>]"
            ]
          },
          "metadata": {},
          "execution_count": 3
        },
        {
          "output_type": "display_data",
          "data": {
            "text/plain": [
              "<Figure size 432x288 with 1 Axes>"
            ],
            "image/png": "[encoded data removed]"
          },
          "metadata": {
            "needs_background": "light"
          }
        }
      ]
    },
    {
      "cell_type": "markdown",
      "source": [
        "###결정 트리"
      ],
      "metadata": {
        "id": "CkO32F_WzipB"
      }
    },
    {
      "cell_type": "code",
      "source": [
        "from sklearn.tree import DecisionTreeClassifier\n",
        "from sklearn.model_selection import train_test_split\n",
        "from sklearn.datasets import load_breast_cancer\n",
        "\n",
        "cancer_data = load_breast_cancer()\n",
        "X_train, X_test, y_train, y_test = train_test_split(cancer_data['data'],cancer_data['target'], stratify=cancer_data['target'], test_size = 0.4, random_state = 42)\n",
        "decisiontree = DecisionTreeClassifier(random_state=42)\n",
        "decisiontree.fit(X_train, y_train)\n",
        "\n",
        "accuracy = decisiontree.score(X_test, y_test)\n",
        "accuracy"
      ],
      "metadata": {
        "colab": {
          "base_uri": "https://localhost:8080/"
        },
        "id": "aV_BRFf_zta6",
        "outputId": "a80e062c-5afc-4799-f984-737013570392"
      },
      "execution_count": null,
      "outputs": [
        {
          "output_type": "execute_result",
          "data": {
            "text/plain": [
              "0.9298245614035088"
            ]
          },
          "metadata": {},
          "execution_count": 4
        }
      ]
    },
    {
      "cell_type": "markdown",
      "source": [
        "###랜덤 포레스트"
      ],
      "metadata": {
        "id": "uqh1dnLy2rrB"
      }
    },
    {
      "cell_type": "code",
      "source": [
        "from sklearn.ensemble import RandomForestClassifier\n",
        "from sklearn.model_selection import train_test_split\n",
        "from sklearn.datasets import load_breast_cancer\n",
        "\n",
        "cancer_data = load_breast_cancer()\n",
        "\n",
        "X_train, X_test, y_train, y_test = train_test_split(cancer_data['data'], cancer_data['target'], stratify=cancer_data['target'], test_size = 0.4, random_state = 42)\n",
        "randomforest = RandomForestClassifier(random_state=42)\n",
        "randomforest.fit(X_train, y_train)\n",
        "\n",
        "accuracy = randomforest.score(X_test, y_test)\n",
        "accuracy"
      ],
      "metadata": {
        "id": "1yZvryZX2uOM",
        "colab": {
          "base_uri": "https://localhost:8080/"
        },
        "outputId": "ddc9a46a-705b-4e96-bf0e-bbf1b0317690"
      },
      "execution_count": 3,
      "outputs": [
        {
          "output_type": "execute_result",
          "data": {
            "text/plain": [
              "0.9385964912280702"
            ]
          },
          "metadata": {},
          "execution_count": 3
        }
      ]
    }
  ]
}